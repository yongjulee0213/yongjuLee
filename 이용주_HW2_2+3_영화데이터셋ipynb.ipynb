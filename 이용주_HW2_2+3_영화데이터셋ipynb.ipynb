{
  "nbformat": 4,
  "nbformat_minor": 0,
  "metadata": {
    "colab": {
      "provenance": [],
      "collapsed_sections": []
    },
    "kernelspec": {
      "name": "python3",
      "display_name": "Python 3"
    },
    "language_info": {
      "name": "python"
    }
  },
  "cells": [
    {
      "cell_type": "code",
      "execution_count": 44,
      "metadata": {
        "id": "N6Vl37-KIXOy"
      },
      "outputs": [],
      "source": [
        "import csv\n",
        "\n",
        "class RawMovieReview:\n",
        "  def __init__(self, file_name:str=\"samples.csv\"):\n",
        "    self._file_name=file_name\n",
        "    self._dataset=self.LoadData(file_name)\n",
        "\n",
        "  def LoadData(self,file_name):\n",
        "    dataset=[]\n",
        "    with open(self._file_name, 'r')as fd:\n",
        "      reader=csv.reader(fd,delimiter=',')\n",
        "      for entry in reader:\n",
        "        dataset.append(entry)\n",
        "    return dataset\n",
        "\n",
        "  def __getitem__(self, N:int):\n",
        "    self._dataset[N+1][2]=int(self._dataset[N+1][2])\n",
        "    return tuple(self._dataset[N+1])\n",
        "\n",
        "  def __len__(self):\n",
        "      return f'한줄평의 개수: {len(self._dataset)}'\n",
        "    "
      ]
    },
    {
      "cell_type": "code",
      "source": [
        "datasetname='samples.csv'\n",
        "rawmoviereview=RawMovieReview()\n",
        "\n",
        "print(rawmoviereview.__getitem__(0))\n",
        "print(rawmoviereview.__len__())"
      ],
      "metadata": {
        "colab": {
          "base_uri": "https://localhost:8080/"
        },
        "id": "NsjqTB20nwMM",
        "outputId": "61ae3d2b-1825-4275-f4b1-7fa0cb9f3e7a"
      },
      "execution_count": 45,
      "outputs": [
        {
          "output_type": "stream",
          "name": "stdout",
          "text": [
            "('스마일', '기괴한 미소를 지으며 자신의 눈 앞에서 목숨을 끊는 환자를 목격한 정신과 의사 로즈. 일상을 덮친 공포에 발버둥치던 로즈는 이전에도 자신과 같은 일을 겪은 사람들이 있었고 그들 모두 끔찍한 죽음을 피할 수 없었다는 사실을 알게 된다.', 10)\n",
            "한줄평의 개수: 1009\n"
          ]
        }
      ]
    },
    {
      "cell_type": "code",
      "source": [
        "from ast import Name\n",
        "class MovieReview(RawMovieReview):\n",
        "  def __init__(self, file_name:str,score_threadhold:int):\n",
        "    super().__init__(file_name)\n",
        "    self.score_threadhold=score_threadhold\n",
        "\n",
        "  def __getitem__(self,N:int): #n=index\n",
        "    self._review_index=N\n",
        "\n",
        "    if int(self._dataset[self._review_index][2])>self.score_threadhold:\n",
        "        self._grade=True\n",
        "    else:\n",
        "        self._grade=False\n",
        "    return self._dataset[self._review_index][1].strip(),str(self._grade)\n",
        "\n"
      ],
      "metadata": {
        "id": "RAPPbJbjzfSW"
      },
      "execution_count": 89,
      "outputs": []
    },
    {
      "cell_type": "code",
      "source": [
        "moviereview=MovieReview(datasetname,5)\n",
        "print(moviereview[643])"
      ],
      "metadata": {
        "id": "rrVKXIv74PiA",
        "colab": {
          "base_uri": "https://localhost:8080/"
        },
        "outputId": "baa95c60-33df-4a09-8650-60c2eed99365"
      },
      "execution_count": 91,
      "outputs": [
        {
          "output_type": "stream",
          "name": "stdout",
          "text": [
            "('완전 쿨하고 힙하당', 'True')\n"
          ]
        }
      ]
    },
    {
      "cell_type": "markdown",
      "source": [
        "## 2-3. 네이버 영화 학습 데이터 셋 제작 (30점)\n",
        "위에서 제작한 데이터 셋은 `CSV` 파일을 모두 조회하지만, 학습에 바로 사용되기에는 다소 불편합니다.\n",
        "따라서 이를 상속한 `MovieReview`를 만들어 봅시다. \n",
        "\n",
        "### `MovieReview` 클래스는 다음을 준수해야 합니다.\n",
        "1. 상속\n",
        "    * 위에서 정의한 `RawMoviewReview` 클래스를 상속받아야합니다.\n",
        "    * `RawMoviewReview` 내의 데이터를 복사하면 안됩니다.\n",
        "    * 즉, 저장된 `CSV`파일은 부모 클래스의 속성 혹은 메소드로 접근해야합니다.\n",
        "2. 생성자\n",
        "    * 생성자의 인자는 부모의 인자와 `int`타입의 `score_threadhold`를 받습니다.\n",
        "    * 해당 자식 클래스에는 `CSV`파일 및 그 내용이 속성으로 들어가면 안됩니다.\n",
        "    * 즉, 영화 데이터는 부모에만 저장되어야합니다.\n",
        "3. Indexing\n",
        "    * 부모의 Indexing을 재정의합니다. (Overriding)\n",
        "    * 기본적인 기능은 부모의 기능과 비슷하나 이하의 사항이 다릅니다.\n",
        "    * Indexing 결과 값은 `한줄평, 긍부정`으로 타입은 `(str, bool)` 형태의 튜플입니다.\n",
        "    * 점수가 객체의 `score_threadhold` 이상일 경우 긍정이 `True`, 미만이면 `False` 입니다.\n",
        "    * 한줄평 string의 경우 양쪽에 공백이 없어야 합니다.\n",
        "\n",
        "### 과제를 제출하실때 다음을 제출해야합니다.\n",
        "1. `MoviewReview` 클래스가 정의된 코드 (`.py` 혹은 `.ipynb`)"
      ],
      "metadata": {
        "id": "P2OPdhTvuFfP"
      }
    },
    {
      "cell_type": "markdown",
      "source": [
        "## 최종 제출\n",
        "* 모든 파일을 `zip`으로 압축하여 `HW2_<한글 이름>.zip` 형태로 제출합니다.\n"
      ],
      "metadata": {
        "id": "_RZ8j4xYuJHh"
      }
    },
    {
      "cell_type": "code",
      "source": [],
      "metadata": {
        "id": "JvXCeA3AuF8l"
      },
      "execution_count": null,
      "outputs": []
    }
  ]
}